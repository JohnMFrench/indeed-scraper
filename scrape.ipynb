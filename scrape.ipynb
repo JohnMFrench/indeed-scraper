{
 "cells": [
  {
   "cell_type": "code",
   "execution_count": 1,
   "metadata": {},
   "outputs": [],
   "source": [
    "import argparse\n",
    "import matplotlib as plt\n",
    "import pandas as pd\n",
    "from urllib.request import urlopen\n",
    "import urllib\n",
    "from bs4 import BeautifulSoup\n",
    "import bs4\n",
    "import requests"
   ]
  },
  {
   "cell_type": "markdown",
   "metadata": {},
   "source": [
    "THIS CLASS REPRESENTS THE JOB CARDS FROM INDEED.COM SEARCH RESULTS"
   ]
  },
  {
   "cell_type": "code",
   "execution_count": 2,
   "metadata": {},
   "outputs": [],
   "source": [
    "class JobPost:\n",
    "    def __init__(self, job_id, job_title, job_company, job_salary, job_date_posted, job_company_link):\n",
    "        self.job_id = job_id\n",
    "        self.job_title = job_title\n",
    "        self.job_company = job_company\n",
    "        self.job_date_posted = job_date_posted\n",
    "        self.job_company_link = job_company_link\n",
    "        self.job_salary = job_salary\n",
    "    def toString(self):\n",
    "        return f'{self.job_company_link}\\n{self.job_id}\\n{self.job_title}\\n{self.job_company}\\n{self.job_salary}\\nposted: {self.job_date_posted}'"
   ]
  },
  {
   "cell_type": "markdown",
   "metadata": {},
   "source": [
    "PARSE ARGUMENTS FROM CLI"
   ]
  },
  {
   "cell_type": "code",
   "execution_count": 3,
   "metadata": {},
   "outputs": [
    {
     "name": "stderr",
     "output_type": "stream",
     "text": [
      "usage: ipykernel_launcher.py [-h] [-d D] [-job JOB] [-n N]\n",
      "ipykernel_launcher.py: error: unrecognized arguments: --ip=127.0.0.1 --stdin=9019 --control=9017 --hb=9016 --Session.signature_scheme=\"hmac-sha256\" --Session.key=b\"add3baaf-99bb-4a73-87c3-330a9b2041b6\" --shell=9018 --transport=\"tcp\" --iopub=9020 --f=c:\\Users\\John\\AppData\\Roaming\\jupyter\\runtime\\kernel-14008hwgrQjYoWv2l.json\n"
     ]
    },
    {
     "ename": "SystemExit",
     "evalue": "2",
     "output_type": "error",
     "traceback": [
      "An exception has occurred, use %tb to see the full traceback.\n",
      "\u001b[1;31mSystemExit\u001b[0m\u001b[1;31m:\u001b[0m 2\n"
     ]
    },
    {
     "name": "stderr",
     "output_type": "stream",
     "text": [
      "c:\\Users\\John\\AppData\\Local\\Programs\\Python\\Python310\\lib\\site-packages\\IPython\\core\\interactiveshell.py:3405: UserWarning: To exit: use 'exit', 'quit', or Ctrl-D.\n",
      "  warn(\"To exit: use 'exit', 'quit', or Ctrl-D.\", stacklevel=1)\n"
     ]
    }
   ],
   "source": [
    "parser = argparse.ArgumentParser()\n",
    "parser.add_argument(\"-d\", help=\"Pull latest data on indeed server\")\n",
    "parser.add_argument(\"-job\", help=\"Specify a job\")\n",
    "parser.add_argument(\"-n\", help=\"The number\")\n",
    "args = parser.parse_args()"
   ]
  },
  {
   "cell_type": "code",
   "execution_count": null,
   "metadata": {},
   "outputs": [],
   "source": [
    "if args.job is not None:\n",
    "    job = \"none specified\"\n",
    "    job_query = args.job or \"data-analyst\""
   ]
  },
  {
   "cell_type": "markdown",
   "metadata": {},
   "source": [
    "CREATE PAGE REQUESTS WITH CUSTOM FIELDS<br>\n",
    "RL = \"https://www.indeed.com/jobs?q=\" + job_query"
   ]
  },
  {
   "cell_type": "code",
   "execution_count": null,
   "metadata": {},
   "outputs": [],
   "source": [
    "URL2 = \"https://www.indeed.com/jobs?q=\" + job_query + \"%20no%20degree%20%2460%2C000&sc=0kf%3Aattr(FCGTU%7CQJZM9%7CUTPWG%252COR)%3B&vjk=e6db7da96543b7b6\""
   ]
  },
  {
   "cell_type": "markdown",
   "metadata": {},
   "source": [
    "LOAD THE WEBPAGE OR READ FROM HTML FILE"
   ]
  },
  {
   "cell_type": "code",
   "execution_count": null,
   "metadata": {},
   "outputs": [],
   "source": [
    "if(args.d == \"pull\"):\n",
    "    html = urllib.request.urlopen(URL2).read()\n",
    "else:\n",
    "    html = open(\"pass1.html\", \"r\", encoding=\"utf8\")\n",
    "soup = BeautifulSoup(html, \"html.parser\")"
   ]
  },
  {
   "cell_type": "markdown",
   "metadata": {},
   "source": [
    "SAVE ANOTHER PASS<br>\n",
    "with open(\"pass1.html\", \"wb\") as f:<br>\n",
    " f.write(soup.encode(formatter=\"html\"))"
   ]
  },
  {
   "cell_type": "code",
   "execution_count": null,
   "metadata": {},
   "outputs": [],
   "source": [
    "job_lis = soup.find(\"ul\", \"jobsearch-ResultsList\")\n",
    "#print(f'found {len(job_lis)} in document')"
   ]
  },
  {
   "cell_type": "markdown",
   "metadata": {},
   "source": [
    "SEPARATE VALUES RETURNED INTO DIVS THAT CONTAIN BOTH<br>\n",
    ".jobCard_mainContent AND .jobCardShelfContainer"
   ]
  },
  {
   "cell_type": "code",
   "execution_count": null,
   "metadata": {},
   "outputs": [],
   "source": [
    "result_card_list = soup.find_all(\"result\")"
   ]
  },
  {
   "cell_type": "markdown",
   "metadata": {},
   "source": [
    "rint(f'found {len(result_card_list)} tags')"
   ]
  },
  {
   "cell_type": "markdown",
   "metadata": {},
   "source": [
    "FIND THE PARENT TAGS BY CSS CLASS"
   ]
  },
  {
   "cell_type": "code",
   "execution_count": null,
   "metadata": {},
   "outputs": [],
   "source": [
    "results_list = soup.find_all(\"div\", class_=\"cardOutline\")\n",
    "#print(f\"Found {len(results_list)} job search results items \\n\")"
   ]
  },
  {
   "cell_type": "markdown",
   "metadata": {},
   "source": [
    "ITERATE THROUGH THE <table> TAGS THAT CONTAIN JOB DATA"
   ]
  },
  {
   "cell_type": "code",
   "execution_count": null,
   "metadata": {},
   "outputs": [],
   "source": [
    "for result in results_list:\n",
    "    # EXTRACT THE JOB TITLE\n",
    "    title_h2 = result.find_all(\"h2\", class_=\"jobTitle\")\n",
    "    a_tag = title_h2[0].find(\"a\")\n",
    "    title = a_tag.string\n",
    "\n",
    "    # EXTRACT JOB ID FROM DATA ATTRIBUTE\n",
    "    job_id = a_tag[\"data-jk\"]\n",
    "\n",
    "    # EXTRACT THE COMPANY\n",
    "    company_span = result.find_all(\"span\", class_=\"companyName\")\n",
    "    for span in company_span:\n",
    "        if span.string[0] != '+':\n",
    "            company = span.string\n",
    "        else:\n",
    "            company = span[1].string\n",
    "    \n",
    "    # EXTRACT THE URL FOR THE JOB APPLICATION\n",
    "    company_link = result.find(\"a\", class_=\"jcs-JobTitle\")['href']\n",
    "    company_link = 'http://indeed.com' + company_link\n",
    "    \n",
    "    # EXTRACT THE LOCATION\n",
    "    location_div = result.find(\"div\", \"companyLocation\")\n",
    "    location = location_div.string\n",
    "\n",
    "    # EXTRACT THE SALARY IF IT IS SHOWN ON THE JOBCARD\n",
    "    salary_divs = result.find(\"div\", \"salary-snippet-container\")\n",
    "    salary = \"Compensation Not Listed\"\n",
    "    if salary_divs is not None:\n",
    "        salary_sub_div = salary_divs.find(\"div\")\n",
    "        salary = \"???\"\n",
    "        for s in salary_sub_div.strings:\n",
    "            if s[0] == '$':\n",
    "                salary = s\n",
    "            \n",
    "\n",
    "    # EXTRACT THE TIME THE JOB WAS POSTED date_posted =\n",
    "    date_posted = \"\"\n",
    "    date_spans = result.find_all(\"span\", class_=\"date\")\n",
    "    for d_span in date_spans:\n",
    "        if (d_span.string is not None):\n",
    "            date_posted = d_span.string\n",
    "\n",
    "    #print(f'{len(date_span)} spans containing dates were found')\n",
    "    job = JobPost(job_id, title, company, salary, date_posted, company_link)\n",
    "    print(job.toString() + \"\\n\")"
   ]
  }
 ],
 "metadata": {
  "interpreter": {
   "hash": "882ff7038df49cc7fe29560075f5cb1e01e62ef6492096b31436eb4923d2c412"
  },
  "kernelspec": {
   "display_name": "Python 3 (ipykernel)",
   "language": "python",
   "name": "python3"
  },
  "language_info": {
   "codemirror_mode": {
    "name": "ipython",
    "version": 3
   },
   "file_extension": ".py",
   "mimetype": "text/x-python",
   "name": "python",
   "nbconvert_exporter": "python",
   "pygments_lexer": "ipython3",
   "version": "3.10.4"
  }
 },
 "nbformat": 4,
 "nbformat_minor": 4
}
