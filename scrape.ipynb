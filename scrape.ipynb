{
 "cells": [
  {
   "cell_type": "code",
   "execution_count": 7,
   "metadata": {},
   "outputs": [],
   "source": [
    "import argparse\n",
    "import matplotlib as plt\n",
    "import pandas as pd\n",
    "from urllib.request import urlopen\n",
    "import urllib\n",
    "from bs4 import BeautifulSoup\n",
    "import bs4\n",
    "import requests"
   ]
  },
  {
   "cell_type": "markdown",
   "metadata": {},
   "source": [
    "THIS CLASS REPRESENTS THE JOB CARDS FROM INDEED.COM SEARCH RESULTS"
   ]
  },
  {
   "cell_type": "code",
   "execution_count": 8,
   "metadata": {},
   "outputs": [],
   "source": [
    "class JobPost:\n",
    "    def __init__(self, job_id, job_title, job_company, job_salary, job_date_posted, job_company_link):\n",
    "        self.job_id = job_id\n",
    "        self.job_title = job_title\n",
    "        self.job_company = job_company\n",
    "        self.job_date_posted = job_date_posted\n",
    "        self.job_company_link = job_company_link\n",
    "        self.job_salary = job_salary\n",
    "    def toString(self):\n",
    "        return f'{self.job_company_link}\\n{self.job_id}\\n{self.job_title}\\n{self.job_company}\\n{self.job_salary}\\nposted: {self.job_date_posted}'"
   ]
  },
  {
   "cell_type": "markdown",
   "metadata": {},
   "source": [
    "PARSE ARGUMENTS FROM CLI"
   ]
  },
  {
   "cell_type": "code",
   "execution_count": 9,
   "metadata": {},
   "outputs": [
    {
     "name": "stderr",
     "output_type": "stream",
     "text": [
      "usage: ipykernel_launcher.py [-h] [-d D] [-job JOB] [-n N]\n",
      "ipykernel_launcher.py: error: unrecognized arguments: -f C:\\Users\\John\\AppData\\Roaming\\jupyter\\runtime\\kernel-dbea9b8d-ee2f-46b5-94be-a28fc66c5a6a.json\n"
     ]
    },
    {
     "ename": "SystemExit",
     "evalue": "2",
     "output_type": "error",
     "traceback": [
      "An exception has occurred, use %tb to see the full traceback.\n",
      "\u001b[1;31mSystemExit\u001b[0m\u001b[1;31m:\u001b[0m 2\n"
     ]
    }
   ],
   "source": [
    "parser = argparse.ArgumentParser()\n",
    "parser.add_argument(\"-d\", help=\"Pull latest data on indeed server\")\n",
    "parser.add_argument(\"-job\", help=\"Specify a job\")\n",
    "parser.add_argument(\"-n\", help=\"The number\")\n",
    "args = parser.parse_args()"
   ]
  },
  {
   "cell_type": "code",
   "execution_count": 10,
   "metadata": {},
   "outputs": [
    {
     "ename": "NameError",
     "evalue": "name 'args' is not defined",
     "output_type": "error",
     "traceback": [
      "\u001b[1;31m---------------------------------------------------------------------------\u001b[0m",
      "\u001b[1;31mNameError\u001b[0m                                 Traceback (most recent call last)",
      "\u001b[1;32m~\\AppData\\Local\\Temp/ipykernel_12320/4277906639.py\u001b[0m in \u001b[0;36m<module>\u001b[1;34m\u001b[0m\n\u001b[1;32m----> 1\u001b[1;33m \u001b[1;32mif\u001b[0m \u001b[0margs\u001b[0m\u001b[1;33m.\u001b[0m\u001b[0mjob\u001b[0m \u001b[1;32mis\u001b[0m \u001b[1;32mnot\u001b[0m \u001b[1;32mNone\u001b[0m\u001b[1;33m:\u001b[0m\u001b[1;33m\u001b[0m\u001b[1;33m\u001b[0m\u001b[0m\n\u001b[0m\u001b[0;32m      2\u001b[0m     \u001b[0mjob\u001b[0m \u001b[1;33m=\u001b[0m \u001b[1;34m\"none specified\"\u001b[0m\u001b[1;33m\u001b[0m\u001b[1;33m\u001b[0m\u001b[0m\n\u001b[0;32m      3\u001b[0m     \u001b[0mjob_query\u001b[0m \u001b[1;33m=\u001b[0m \u001b[0margs\u001b[0m\u001b[1;33m.\u001b[0m\u001b[0mjob\u001b[0m \u001b[1;32mor\u001b[0m \u001b[1;34m\"data-analyst\"\u001b[0m\u001b[1;33m\u001b[0m\u001b[1;33m\u001b[0m\u001b[0m\n",
      "\u001b[1;31mNameError\u001b[0m: name 'args' is not defined"
     ]
    }
   ],
   "source": [
    "if args.job is not None:\n",
    "    job = \"none specified\"\n",
    "    job_query = args.job or \"data-analyst\""
   ]
  },
  {
   "cell_type": "markdown",
   "metadata": {},
   "source": [
    "CREATE PAGE REQUESTS WITH CUSTOM FIELDS<br>\n",
    "RL = \"https://www.indeed.com/jobs?q=\" + job_query"
   ]
  },
  {
   "cell_type": "code",
   "execution_count": 11,
   "metadata": {},
   "outputs": [
    {
     "ename": "NameError",
     "evalue": "name 'job_query' is not defined",
     "output_type": "error",
     "traceback": [
      "\u001b[1;31m---------------------------------------------------------------------------\u001b[0m",
      "\u001b[1;31mNameError\u001b[0m                                 Traceback (most recent call last)",
      "\u001b[1;32m~\\AppData\\Local\\Temp/ipykernel_12320/284536334.py\u001b[0m in \u001b[0;36m<module>\u001b[1;34m\u001b[0m\n\u001b[1;32m----> 1\u001b[1;33m \u001b[0mURL2\u001b[0m \u001b[1;33m=\u001b[0m \u001b[1;34m\"https://www.indeed.com/jobs?q=\"\u001b[0m \u001b[1;33m+\u001b[0m \u001b[0mjob_query\u001b[0m \u001b[1;33m+\u001b[0m \u001b[1;34m\"%20no%20degree%20%2460%2C000&sc=0kf%3Aattr(FCGTU%7CQJZM9%7CUTPWG%252COR)%3B&vjk=e6db7da96543b7b6\"\u001b[0m\u001b[1;33m\u001b[0m\u001b[1;33m\u001b[0m\u001b[0m\n\u001b[0m",
      "\u001b[1;31mNameError\u001b[0m: name 'job_query' is not defined"
     ]
    }
   ],
   "source": [
    "URL2 = \"https://www.indeed.com/jobs?q=\" + job_query + \"%20no%20degree%20%2460%2C000&sc=0kf%3Aattr(FCGTU%7CQJZM9%7CUTPWG%252COR)%3B&vjk=e6db7da96543b7b6\""
   ]
  },
  {
   "cell_type": "markdown",
   "metadata": {},
   "source": [
    "LOAD THE WEBPAGE OR READ FROM HTML FILE"
   ]
  },
  {
   "cell_type": "code",
   "execution_count": 12,
   "metadata": {},
   "outputs": [
    {
     "ename": "NameError",
     "evalue": "name 'args' is not defined",
     "output_type": "error",
     "traceback": [
      "\u001b[1;31m---------------------------------------------------------------------------\u001b[0m",
      "\u001b[1;31mNameError\u001b[0m                                 Traceback (most recent call last)",
      "\u001b[1;32m~\\AppData\\Local\\Temp/ipykernel_12320/2648911882.py\u001b[0m in \u001b[0;36m<module>\u001b[1;34m\u001b[0m\n\u001b[1;32m----> 1\u001b[1;33m \u001b[1;32mif\u001b[0m\u001b[1;33m(\u001b[0m\u001b[0margs\u001b[0m\u001b[1;33m.\u001b[0m\u001b[0md\u001b[0m \u001b[1;33m==\u001b[0m \u001b[1;34m\"pull\"\u001b[0m\u001b[1;33m)\u001b[0m\u001b[1;33m:\u001b[0m\u001b[1;33m\u001b[0m\u001b[1;33m\u001b[0m\u001b[0m\n\u001b[0m\u001b[0;32m      2\u001b[0m     \u001b[0mhtml\u001b[0m \u001b[1;33m=\u001b[0m \u001b[0murllib\u001b[0m\u001b[1;33m.\u001b[0m\u001b[0mrequest\u001b[0m\u001b[1;33m.\u001b[0m\u001b[0murlopen\u001b[0m\u001b[1;33m(\u001b[0m\u001b[0mURL2\u001b[0m\u001b[1;33m)\u001b[0m\u001b[1;33m.\u001b[0m\u001b[0mread\u001b[0m\u001b[1;33m(\u001b[0m\u001b[1;33m)\u001b[0m\u001b[1;33m\u001b[0m\u001b[1;33m\u001b[0m\u001b[0m\n\u001b[0;32m      3\u001b[0m \u001b[1;32melse\u001b[0m\u001b[1;33m:\u001b[0m\u001b[1;33m\u001b[0m\u001b[1;33m\u001b[0m\u001b[0m\n\u001b[0;32m      4\u001b[0m     \u001b[0mhtml\u001b[0m \u001b[1;33m=\u001b[0m \u001b[0mopen\u001b[0m\u001b[1;33m(\u001b[0m\u001b[1;34m\"pass1.html\"\u001b[0m\u001b[1;33m,\u001b[0m \u001b[1;34m\"r\"\u001b[0m\u001b[1;33m,\u001b[0m \u001b[0mencoding\u001b[0m\u001b[1;33m=\u001b[0m\u001b[1;34m\"utf8\"\u001b[0m\u001b[1;33m)\u001b[0m\u001b[1;33m\u001b[0m\u001b[1;33m\u001b[0m\u001b[0m\n\u001b[0;32m      5\u001b[0m \u001b[0msoup\u001b[0m \u001b[1;33m=\u001b[0m \u001b[0mBeautifulSoup\u001b[0m\u001b[1;33m(\u001b[0m\u001b[0mhtml\u001b[0m\u001b[1;33m,\u001b[0m \u001b[1;34m\"html.parser\"\u001b[0m\u001b[1;33m)\u001b[0m\u001b[1;33m\u001b[0m\u001b[1;33m\u001b[0m\u001b[0m\n",
      "\u001b[1;31mNameError\u001b[0m: name 'args' is not defined"
     ]
    }
   ],
   "source": [
    "if(args.d == \"pull\"):\n",
    "    html = urllib.request.urlopen(URL2).read()\n",
    "else:\n",
    "    html = open(\"pass1.html\", \"r\", encoding=\"utf8\")\n",
    "soup = BeautifulSoup(html, \"html.parser\")"
   ]
  },
  {
   "cell_type": "markdown",
   "metadata": {},
   "source": [
    "SAVE ANOTHER PASS<br>\n",
    "with open(\"pass1.html\", \"wb\") as f:<br>\n",
    " f.write(soup.encode(formatter=\"html\"))"
   ]
  },
  {
   "cell_type": "code",
   "execution_count": 13,
   "metadata": {},
   "outputs": [
    {
     "ename": "NameError",
     "evalue": "name 'soup' is not defined",
     "output_type": "error",
     "traceback": [
      "\u001b[1;31m---------------------------------------------------------------------------\u001b[0m",
      "\u001b[1;31mNameError\u001b[0m                                 Traceback (most recent call last)",
      "\u001b[1;32m~\\AppData\\Local\\Temp/ipykernel_12320/1103191400.py\u001b[0m in \u001b[0;36m<module>\u001b[1;34m\u001b[0m\n\u001b[1;32m----> 1\u001b[1;33m \u001b[0mjob_lis\u001b[0m \u001b[1;33m=\u001b[0m \u001b[0msoup\u001b[0m\u001b[1;33m.\u001b[0m\u001b[0mfind\u001b[0m\u001b[1;33m(\u001b[0m\u001b[1;34m\"ul\"\u001b[0m\u001b[1;33m,\u001b[0m \u001b[1;34m\"jobsearch-ResultsList\"\u001b[0m\u001b[1;33m)\u001b[0m\u001b[1;33m\u001b[0m\u001b[1;33m\u001b[0m\u001b[0m\n\u001b[0m\u001b[0;32m      2\u001b[0m \u001b[1;31m#print(f'found {len(job_lis)} in document')\u001b[0m\u001b[1;33m\u001b[0m\u001b[1;33m\u001b[0m\u001b[0m\n",
      "\u001b[1;31mNameError\u001b[0m: name 'soup' is not defined"
     ]
    }
   ],
   "source": [
    "job_lis = soup.find(\"ul\", \"jobsearch-ResultsList\")\n",
    "#print(f'found {len(job_lis)} in document')"
   ]
  },
  {
   "cell_type": "markdown",
   "metadata": {},
   "source": [
    "SEPARATE VALUES RETURNED INTO DIVS THAT CONTAIN BOTH<br>\n",
    ".jobCard_mainContent AND .jobCardShelfContainer"
   ]
  },
  {
   "cell_type": "code",
   "execution_count": null,
   "metadata": {},
   "outputs": [],
   "source": [
    "result_card_list = soup.find_all(\"result\")"
   ]
  },
  {
   "cell_type": "markdown",
   "metadata": {},
   "source": [
    "rint(f'found {len(result_card_list)} tags')"
   ]
  },
  {
   "cell_type": "markdown",
   "metadata": {},
   "source": [
    "FIND THE PARENT TAGS BY CSS CLASS"
   ]
  },
  {
   "cell_type": "code",
   "execution_count": null,
   "metadata": {},
   "outputs": [],
   "source": [
    "results_list = soup.find_all(\"div\", class_=\"cardOutline\")\n",
    "#print(f\"Found {len(results_list)} job search results items \\n\")"
   ]
  },
  {
   "cell_type": "markdown",
   "metadata": {},
   "source": [
    "ITERATE THROUGH THE <table> TAGS THAT CONTAIN JOB DATA"
   ]
  },
  {
   "cell_type": "code",
   "execution_count": 6,
   "metadata": {},
   "outputs": [
    {
     "ename": "NameError",
     "evalue": "name 'results_list' is not defined",
     "output_type": "error",
     "traceback": [
      "\u001b[1;31m---------------------------------------------------------------------------\u001b[0m",
      "\u001b[1;31mNameError\u001b[0m                                 Traceback (most recent call last)",
      "\u001b[1;32m~\\AppData\\Local\\Temp/ipykernel_12320/2272312513.py\u001b[0m in \u001b[0;36m<module>\u001b[1;34m\u001b[0m\n\u001b[1;32m----> 1\u001b[1;33m \u001b[1;32mfor\u001b[0m \u001b[0mresult\u001b[0m \u001b[1;32min\u001b[0m \u001b[0mresults_list\u001b[0m\u001b[1;33m:\u001b[0m\u001b[1;33m\u001b[0m\u001b[1;33m\u001b[0m\u001b[0m\n\u001b[0m\u001b[0;32m      2\u001b[0m     \u001b[1;31m# EXTRACT THE JOB TITLE\u001b[0m\u001b[1;33m\u001b[0m\u001b[1;33m\u001b[0m\u001b[0m\n\u001b[0;32m      3\u001b[0m     \u001b[0mtitle_h2\u001b[0m \u001b[1;33m=\u001b[0m \u001b[0mresult\u001b[0m\u001b[1;33m.\u001b[0m\u001b[0mfind_all\u001b[0m\u001b[1;33m(\u001b[0m\u001b[1;34m\"h2\"\u001b[0m\u001b[1;33m,\u001b[0m \u001b[0mclass_\u001b[0m\u001b[1;33m=\u001b[0m\u001b[1;34m\"jobTitle\"\u001b[0m\u001b[1;33m)\u001b[0m\u001b[1;33m\u001b[0m\u001b[1;33m\u001b[0m\u001b[0m\n\u001b[0;32m      4\u001b[0m     \u001b[0ma_tag\u001b[0m \u001b[1;33m=\u001b[0m \u001b[0mtitle_h2\u001b[0m\u001b[1;33m[\u001b[0m\u001b[1;36m0\u001b[0m\u001b[1;33m]\u001b[0m\u001b[1;33m.\u001b[0m\u001b[0mfind\u001b[0m\u001b[1;33m(\u001b[0m\u001b[1;34m\"a\"\u001b[0m\u001b[1;33m)\u001b[0m\u001b[1;33m\u001b[0m\u001b[1;33m\u001b[0m\u001b[0m\n\u001b[0;32m      5\u001b[0m     \u001b[0mtitle\u001b[0m \u001b[1;33m=\u001b[0m \u001b[0ma_tag\u001b[0m\u001b[1;33m.\u001b[0m\u001b[0mstring\u001b[0m\u001b[1;33m\u001b[0m\u001b[1;33m\u001b[0m\u001b[0m\n",
      "\u001b[1;31mNameError\u001b[0m: name 'results_list' is not defined"
     ]
    }
   ],
   "source": [
    "for result in results_list:\n",
    "    # EXTRACT THE JOB TITLE\n",
    "    title_h2 = result.find_all(\"h2\", class_=\"jobTitle\")\n",
    "    a_tag = title_h2[0].find(\"a\")\n",
    "    title = a_tag.string\n",
    "\n",
    "    # EXTRACT JOB ID FROM DATA ATTRIBUTE\n",
    "    job_id = a_tag[\"data-jk\"]\n",
    "\n",
    "    # EXTRACT THE COMPANY\n",
    "    company_span = result.find_all(\"span\", class_=\"companyName\")\n",
    "    for span in company_span:\n",
    "        if span.string[0] != '+':\n",
    "            company = span.string\n",
    "        else:\n",
    "            company = span[1].string\n",
    "    \n",
    "    # EXTRACT THE URL FOR THE JOB APPLICATION\n",
    "    company_link = result.find(\"a\", class_=\"jcs-JobTitle\")['href']\n",
    "    company_link = 'http://indeed.com' + company_link\n",
    "    \n",
    "    # EXTRACT THE LOCATION\n",
    "    location_div = result.find(\"div\", \"companyLocation\")\n",
    "    location = location_div.string\n",
    "\n",
    "    # EXTRACT THE SALARY IF IT IS SHOWN ON THE JOBCARD\n",
    "    salary_divs = result.find(\"div\", \"salary-snippet-container\")\n",
    "    salary = \"Compensation Not Listed\"\n",
    "    if salary_divs is not None:\n",
    "        salary_sub_div = salary_divs.find(\"div\")\n",
    "        salary = \"???\"\n",
    "        for s in salary_sub_div.strings:\n",
    "            if s[0] == '$':\n",
    "                salary = s\n",
    "            \n",
    "\n",
    "    # EXTRACT THE TIME THE JOB WAS POSTED date_posted =\n",
    "    date_posted = \"\"\n",
    "    date_spans = result.find_all(\"span\", class_=\"date\")\n",
    "    for d_span in date_spans:\n",
    "        if (d_span.string is not None):\n",
    "            date_posted = d_span.string\n",
    "\n",
    "    #print(f'{len(date_span)} spans containing dates were found')\n",
    "    job = JobPost(job_id, title, company, salary, date_posted, company_link)\n",
    "    print(job.toString() + \"\\n\")"
   ]
  },
  {
   "cell_type": "code",
   "execution_count": null,
   "metadata": {},
   "outputs": [],
   "source": []
  }
 ],
 "metadata": {
  "interpreter": {
   "hash": "882ff7038df49cc7fe29560075f5cb1e01e62ef6492096b31436eb4923d2c412"
  },
  "kernelspec": {
   "display_name": "Python 3 (ipykernel)",
   "language": "python",
   "name": "python3"
  },
  "language_info": {
   "codemirror_mode": {
    "name": "ipython",
    "version": 3
   },
   "file_extension": ".py",
   "mimetype": "text/x-python",
   "name": "python",
   "nbconvert_exporter": "python",
   "pygments_lexer": "ipython3",
   "version": "3.9.7"
  }
 },
 "nbformat": 4,
 "nbformat_minor": 4
}
