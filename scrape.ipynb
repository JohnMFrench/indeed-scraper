{
 "cells": [
  {
   "cell_type": "markdown",
   "metadata": {},
   "source": [
    "# Scraping Job Data from Indeed.com"
   ]
  },
  {
   "cell_type": "markdown",
   "metadata": {},
   "source": [
    "First we will need to import several libraries"
   ]
  },
  {
   "cell_type": "code",
   "execution_count": 10,
   "metadata": {},
   "outputs": [],
   "source": [
    "from re import A\n",
    "import matplotlib as plt\n",
    "import pandas as pd\n",
    "from urllib.request import urlopen\n",
    "import urllib\n",
    "from bs4 import BeautifulSoup\n",
    "from urllib.parse import quote\n",
    "import re\n",
    "import pandas as pd"
   ]
  },
  {
   "cell_type": "markdown",
   "metadata": {},
   "source": [
    "## Define a class that will store job posts on Indeed\n",
    "All the relevant data"
   ]
  },
  {
   "cell_type": "code",
   "execution_count": 11,
   "metadata": {},
   "outputs": [],
   "source": [
    "# this is just a utility function for printing to the console\n",
    "def printhr():\n",
    "    print(\"~~~~~~~~~~~~~~~~~~~~~~~~~~~~~~~~~~~~~~~~~~\")\n",
    "\n",
    "# This class will be created from data scraped from python\n",
    "# and converted to csv\n",
    "class JobPost:\n",
    "    def __init__(self, job_id, job_title, job_company, job_salary,\n",
    "                 location, job_date_posted, job_company_link, job_page_title):\n",
    "        self.job_id = job_id\n",
    "        self.job_title = job_title\n",
    "        self.job_company = job_company\n",
    "        self.job_date_posted = job_date_posted\n",
    "        self.job_company_link = job_company_link\n",
    "        self.job_salary = job_salary\n",
    "        self.location = location\n",
    "        self.job_page_title = job_page_title\n",
    "\n",
    "    # prints to console for debugging\n",
    "    def printF(self):\n",
    "        print(self.job_title)\n",
    "        print(f\"{self.job_company} at {self.location}\")\n",
    "        print(self.job_date_posted)\n",
    "        print(self.job_salary)\n",
    "        print(self.job_page_title)\n",
    "        print(self.job_company_link)\n",
    "        printhr()\n",
    "\n",
    "    # for debugging with less text\n",
    "    def desc(self):\n",
    "        print(self.job_title)\n",
    "        print(f\"{self.job_company} at {self.location}\")\n",
    "\n",
    "    def to_dict(self):\n",
    "        return {\n",
    "            'job_id': self.job_id,\n",
    "            'job_title': self.job_title,\n",
    "            'job_company': self.job_company,\n",
    "            'job_date_posted': self.job_date_posted,\n",
    "            'job_company_link': self.job_company_link,\n",
    "            'job_salary': self.job_salary,\n",
    "            'location': self.location,\n",
    "            'job_page_title': self.job_page_title\n",
    "        }"
   ]
  },
  {
   "cell_type": "markdown",
   "metadata": {},
   "source": [
    "# Instantiate a list\n",
    "This will contain all the job posts that we collect during the scrape"
   ]
  },
  {
   "cell_type": "code",
   "execution_count": 12,
   "metadata": {},
   "outputs": [],
   "source": [
    "jobs_post_list = []"
   ]
  },
  {
   "cell_type": "markdown",
   "metadata": {},
   "source": [
    "### Specify some keywords that we will search for"
   ]
  },
  {
   "cell_type": "code",
   "execution_count": 13,
   "metadata": {},
   "outputs": [],
   "source": [
    "keywords = [\"bootcamp\", \"SQL\", \"Tableau\", \"degree\", \"data\"]"
   ]
  },
  {
   "cell_type": "markdown",
   "metadata": {},
   "source": [
    "# Ask user for specific inputs\n",
    "This section requests specific inputs from the user and may not be necessary. running on default values for now"
   ]
  },
  {
   "cell_type": "code",
   "execution_count": 14,
   "metadata": {},
   "outputs": [
    {
     "name": "stdout",
     "output_type": "stream",
     "text": [
      "using default vals\n",
      "Searching url https://www.indeed.com/jobs?q=data-analyst&no%20degree\n"
     ]
    }
   ],
   "source": [
    "#use_default_vals = input(\"Use default config? (Y/N)\")\n",
    "use_default_vals = \"Y\"\n",
    "while True:\n",
    "  if (use_default_vals.upper() == \"Y\"):\n",
    "    print(\"using default vals\")\n",
    "    job_query = quote(\"data-analyst\")\n",
    "    CompFilter = True\n",
    "    n = 15\n",
    "    deg = quote(\"no degree\")\n",
    "    url = \"https://www.indeed.com/jobs?q=\" + \\\n",
    "    job_query + \"&\" + deg\n",
    "    from_fs = False\n",
    "    print(f'Searching url {url}')\n",
    "    break\n",
    "  elif (use_default_vals.upper() == \"N\"):\n",
    "    print(\"input your own options to the parser\")\n",
    "    break\n",
    "  else:\n",
    "    \"did not recognize that. Your options are Y/N\""
   ]
  },
  {
   "cell_type": "code",
   "execution_count": 15,
   "metadata": {},
   "outputs": [],
   "source": [
    "if from_fs:\n",
    "  html = open(\"pass1.html\", \"r\", encoding=\"utf8\")\n",
    "else: \n",
    "  html = urllib.request.urlopen(url).read()\n",
    "soup = BeautifulSoup(html, \"html.parser\")\n",
    "\n",
    "job_lis = soup.find(\"ul\", \"jobsearch-ResultsList\")\n",
    "\n",
    "# SEPARATE VALUES RETURNED INTO DIVS THAT CONTAIN BOTH\n",
    "# .jobCard_mainContent AND .jobCardShelfContainer\n",
    "result_card_list = soup.find_all(\"result\")\n",
    "\n",
    "# FIND THE PARENT TAGS BY CSS CLASS\n",
    "results_list = soup.find_all(\"div\", class_=\"cardOutline\")\n",
    "#print(f\"Found {len(results_list)} job search results items \\n\")"
   ]
  },
  {
   "cell_type": "markdown",
   "metadata": {},
   "source": [
    "This function wil try to pull a salary from the salary-snippet-container div"
   ]
  },
  {
   "cell_type": "code",
   "execution_count": 16,
   "metadata": {},
   "outputs": [],
   "source": [
    "# CREATE A SEPARATE FUNCTION TO PARSE FOR SALARY CONTENT WITHIN THE JOB DIV\n",
    "def extract_job_salary(job_div_soup) -> str:\n",
    "  salary_divs = job_div_soup.find(\"div\", \"salary-snippet-container\")\n",
    "  salary = \"Compensation Not Listed\"\n",
    "  if salary_divs is not None:\n",
    "    salary_sub_div = salary_divs.find(\"div\")\n",
    "    for s in salary_sub_div.strings:\n",
    "      if s[0] == '$':\n",
    "        salary = s\n",
    "  return salary"
   ]
  },
  {
   "cell_type": "markdown",
   "metadata": {},
   "source": [
    "This function will pull a title from the job div"
   ]
  },
  {
   "cell_type": "code",
   "execution_count": 17,
   "metadata": {},
   "outputs": [],
   "source": [
    "def extract_job_title(job_div_soup) -> str:\n",
    "  title_h2 = result.find_all(\"h2\", class_=\"jobTitle\")\n",
    "  a_tag = title_h2[0].find(\"a\")\n",
    "  title = a_tag.string\n",
    "  return title"
   ]
  },
  {
   "cell_type": "markdown",
   "metadata": {},
   "source": [
    "Extract the indeed's job id from a job div"
   ]
  },
  {
   "cell_type": "code",
   "execution_count": 18,
   "metadata": {},
   "outputs": [],
   "source": [
    "def extract_job_id(job_soup_dev):\n",
    "    title_h2 = result.find_all(\"h2\", class_=\"jobTitle\")\n",
    "    a_tag = title_h2[0].find(\"a\")\n",
    "    job_id = a_tag[\"data-jk\"]\n",
    "    return job_id\n"
   ]
  },
  {
   "cell_type": "markdown",
   "metadata": {},
   "source": [
    "Extract the job company from the job div"
   ]
  },
  {
   "cell_type": "code",
   "execution_count": 19,
   "metadata": {},
   "outputs": [],
   "source": [
    "def extract_job_company(job_soup_div):\n",
    "    company_span = result.find_all(\"span\", class_=\"companyName\")\n",
    "    for span in company_span:\n",
    "        if span.string[0] != '+':\n",
    "            company = span.string\n",
    "        else:\n",
    "            company = span[1].string\n",
    "    return company\n"
   ]
  },
  {
   "cell_type": "markdown",
   "metadata": {},
   "source": [
    "Extract the indeed.com job url from job div"
   ]
  },
  {
   "cell_type": "code",
   "execution_count": 20,
   "metadata": {},
   "outputs": [],
   "source": [
    "def extract_job_url(job_soup_div) -> str:\n",
    "  company_link = result.find(\"a\", class_=\"jcs-JobTitle\")['href']\n",
    "  company_link = 'http://indeed.com' + company_link\n",
    "  return company_link"
   ]
  },
  {
   "cell_type": "markdown",
   "metadata": {},
   "source": [
    "Extract the location from the job div if it is provided"
   ]
  },
  {
   "cell_type": "code",
   "execution_count": 21,
   "metadata": {},
   "outputs": [],
   "source": [
    "def extract_job_location(job_soup_div) -> str:\n",
    "  # EXTRACT THE LOCATION\n",
    "  location_div = result.find(\"div\", \"companyLocation\")\n",
    "  location = location_div.string\n",
    "  if location is None:\n",
    "    location = \"not specified\"\n",
    "  return location"
   ]
  },
  {
   "cell_type": "markdown",
   "metadata": {},
   "source": [
    "Extract the time of the job was posted from the job div"
   ]
  },
  {
   "cell_type": "code",
   "execution_count": 22,
   "metadata": {},
   "outputs": [],
   "source": [
    "def extract_job_date_created(job_soup_div) -> str:\n",
    "    date_posted = \"Not specified when posted\"\n",
    "    date_spans = result.find_all(\"span\", class_=\"date\")\n",
    "    for d_span in date_spans:\n",
    "        if (d_span.string is not None):\n",
    "            date_posted = d_span.string\n",
    "    return date_posted"
   ]
  },
  {
   "cell_type": "markdown",
   "metadata": {},
   "source": [
    "## Iterate Through the <table> Tag that contains job"
   ]
  },
  {
   "cell_type": "code",
   "execution_count": 23,
   "metadata": {},
   "outputs": [
    {
     "name": "stdout",
     "output_type": "stream",
     "text": [
      "Found 15 results\n",
      "Remote - Data Analyst - Research and Analytics contains 0 mentions of bootcamp\n",
      "Remote - Data Analyst - Research and Analytics contains 2 mentions of SQL\n",
      "Remote - Data Analyst - Research and Analytics contains 0 mentions of Tableau\n",
      "Remote - Data Analyst - Research and Analytics contains 2 mentions of degree\n",
      "Remote - Data Analyst - Research and Analytics contains 20 mentions of data\n",
      "https://www.indeed.com/viewjob?jk=a72c2452dcb67391\n",
      "Data Analyst contains 0 mentions of bootcamp\n",
      "Data Analyst contains 2 mentions of SQL\n",
      "Data Analyst contains 2 mentions of Tableau\n",
      "Data Analyst contains 2 mentions of degree\n",
      "Data Analyst contains 25 mentions of data\n",
      "https://www.indeed.com/viewjob?jk=d21e40d081002c62\n",
      "Data Analyst contains 0 mentions of bootcamp\n",
      "Data Analyst contains 4 mentions of SQL\n",
      "Data Analyst contains 2 mentions of Tableau\n",
      "Data Analyst contains 2 mentions of degree\n",
      "Data Analyst contains 22 mentions of data\n",
      "https://www.indeed.com/viewjob?jk=afae32200d9294e4\n",
      "Data Analyst contains 0 mentions of bootcamp\n",
      "Data Analyst contains 2 mentions of SQL\n",
      "Data Analyst contains 0 mentions of Tableau\n",
      "Data Analyst contains 0 mentions of degree\n",
      "Data Analyst contains 20 mentions of data\n",
      "https://www.indeed.com/viewjob?jk=d107ba3673a5180f\n",
      "Data Analyst - 100% REMOTE contains 0 mentions of bootcamp\n",
      "Data Analyst - 100% REMOTE contains 3 mentions of SQL\n",
      "Data Analyst - 100% REMOTE contains 0 mentions of Tableau\n",
      "Data Analyst - 100% REMOTE contains 2 mentions of degree\n",
      "Data Analyst - 100% REMOTE contains 26 mentions of data\n",
      "https://www.indeed.com/viewjob?jk=bdb6936d46f6b7d1\n",
      "Jr. Data Analyst contains 0 mentions of bootcamp\n",
      "Jr. Data Analyst contains 3 mentions of SQL\n",
      "Jr. Data Analyst contains 0 mentions of Tableau\n",
      "Jr. Data Analyst contains 0 mentions of degree\n",
      "Jr. Data Analyst contains 19 mentions of data\n",
      "https://www.indeed.com/viewjob?jk=1e9ba23166aa6793\n",
      "Data Analyst contains 0 mentions of bootcamp\n",
      "Data Analyst contains 0 mentions of SQL\n",
      "Data Analyst contains 2 mentions of Tableau\n",
      "Data Analyst contains 0 mentions of degree\n",
      "Data Analyst contains 19 mentions of data\n",
      "https://www.indeed.com/viewjob?jk=ae7348774581dcf5\n",
      "Data Analyst (all levels) contains 0 mentions of bootcamp\n",
      "Data Analyst (all levels) contains 0 mentions of SQL\n",
      "Data Analyst (all levels) contains 0 mentions of Tableau\n",
      "Data Analyst (all levels) contains 0 mentions of degree\n",
      "Data Analyst (all levels) contains 14 mentions of data\n",
      "https://www.indeed.com/viewjob?jk=f07756912b9fc020\n",
      "Product Data Analyst contains 0 mentions of bootcamp\n",
      "Product Data Analyst contains 4 mentions of SQL\n",
      "Product Data Analyst contains 0 mentions of Tableau\n",
      "Product Data Analyst contains 0 mentions of degree\n",
      "Product Data Analyst contains 19 mentions of data\n",
      "https://www.indeed.com/viewjob?jk=e97a2c4fb8e4e05f\n",
      "Data Analyst (Remote Opportunity) contains 0 mentions of bootcamp\n",
      "Data Analyst (Remote Opportunity) contains 0 mentions of SQL\n",
      "Data Analyst (Remote Opportunity) contains 2 mentions of Tableau\n",
      "Data Analyst (Remote Opportunity) contains 2 mentions of degree\n",
      "Data Analyst (Remote Opportunity) contains 20 mentions of data\n",
      "https://www.indeed.com/viewjob?jk=a51f7732a83a8476\n",
      "Workplace Data Analyst - Visualization contains 0 mentions of bootcamp\n",
      "Workplace Data Analyst - Visualization contains 0 mentions of SQL\n",
      "Workplace Data Analyst - Visualization contains 3 mentions of Tableau\n",
      "Workplace Data Analyst - Visualization contains 0 mentions of degree\n",
      "Workplace Data Analyst - Visualization contains 26 mentions of data\n",
      "https://www.indeed.com/viewjob?jk=83ed585eb98c43f4\n",
      "Data Analyst (100% remote) contains 0 mentions of bootcamp\n",
      "Data Analyst (100% remote) contains 3 mentions of SQL\n",
      "Data Analyst (100% remote) contains 0 mentions of Tableau\n",
      "Data Analyst (100% remote) contains 0 mentions of degree\n",
      "Data Analyst (100% remote) contains 20 mentions of data\n",
      "https://www.indeed.com/viewjob?jk=c7ddf095e634d756\n",
      "Jr Data Analyst contains 0 mentions of bootcamp\n",
      "Jr Data Analyst contains 2 mentions of SQL\n",
      "Jr Data Analyst contains 0 mentions of Tableau\n",
      "Jr Data Analyst contains 0 mentions of degree\n",
      "Jr Data Analyst contains 17 mentions of data\n",
      "https://www.indeed.com/viewjob?jk=c45c1c9b3a37e2e0\n",
      "Data Analyst contains 0 mentions of bootcamp\n",
      "Data Analyst contains 3 mentions of SQL\n",
      "Data Analyst contains 0 mentions of Tableau\n",
      "Data Analyst contains 0 mentions of degree\n",
      "Data Analyst contains 19 mentions of data\n",
      "https://www.indeed.com/viewjob?jk=9b2d371677f71d24\n",
      "Entry Level Data Analyst contains 0 mentions of bootcamp\n",
      "Entry Level Data Analyst contains 3 mentions of SQL\n",
      "Entry Level Data Analyst contains 0 mentions of Tableau\n",
      "Entry Level Data Analyst contains 0 mentions of degree\n",
      "Entry Level Data Analyst contains 17 mentions of data\n",
      "https://www.indeed.com/viewjob?jk=65edb68265116e3d\n"
     ]
    }
   ],
   "source": [
    "# ITERATE THROUGH THE <table> TAGS THAT CONTAIN JOB DATA\n",
    "i = 0\n",
    "\n",
    "print(f'Found {len(results_list)} results')\n",
    "for result in results_list:\n",
    "    # the for loop will be automatically be limited by the pagination on indeed\n",
    "    # limited to 15 results\n",
    "    if i < n:   # iterate for as many times as was specified by the config\n",
    "\n",
    "        salary_s = extract_job_salary(result)\n",
    "        title = extract_job_title(result)\n",
    "        job_id = extract_job_id(result)\n",
    "        company = extract_job_company(result)\n",
    "        company_url = extract_job_url(result)\n",
    "        location = extract_job_location(result)\n",
    "        date_created = extract_job_date_created(result)\n",
    "        try:\n",
    "            # Create a url for the job page using indeed's url query string\n",
    "            job_page_url = \"https://www.indeed.com/viewjob?jk=\" + job_id\n",
    "            #print(f'searching at job url {job_page_url}')\n",
    "\n",
    "            # Create a new soup of job_page_url\n",
    "            job_html = urllib.request.urlopen(job_page_url).read()\n",
    "            job_soup = BeautifulSoup(job_html, \"html.parser\")\n",
    "            # Search the html soup for mentions of a specific keyword\n",
    "            for keyword in keywords:\n",
    "                data_mentions = job_soup.body.findAll(text=re.compile(keyword))\n",
    "                print(f'{title} contains {len(data_mentions)} mentions of {keyword}')\n",
    "            print(job_page_url)\n",
    "\n",
    "            # IF THE SINGLE PAGE VIEW OF THE JOB, EXTRACT MORE DATA\n",
    "            posted = job_soup.find(\n",
    "                \"span\", class_=\"jobsearch-HiringInsights-entry--text\").string\n",
    "\n",
    "            # Instantiate JobPost class and append it to list\n",
    "            job = JobPost(job_id, title, company, salary, location,\n",
    "                          date_posted, company_link, job_soup.title)\n",
    "            jobs_post_list.append(job)\n",
    "\n",
    "        except Exception as e:\n",
    "            print(e)\n",
    "\n",
    "        # finally iterate to the next \n",
    "        i = i + 1 "
   ]
  },
  {
   "cell_type": "markdown",
   "metadata": {},
   "source": [
    "## Can iterate through job_post_list and print to console for debugging"
   ]
  },
  {
   "cell_type": "code",
   "execution_count": 24,
   "metadata": {},
   "outputs": [
    {
     "name": "stdout",
     "output_type": "stream",
     "text": [
      "collected 15\n",
      "1\n",
      "Remote - Data Analyst - Research and Analytics\n",
      "Liberty Mutual Insurance at Remote\n",
      "Not specified when posted\n",
      "$55 - $75 an hour\n",
      "<title>Remote - Data Analyst - Research and Analytics - Remote - Indeed.com</title>\n",
      "http://indeed.com/company/Iprofs,-LLC/jobs/Data-Analyst-8e02dd60797712ae?fccid=4f57ff51df5aa863&vjs=3\n",
      "~~~~~~~~~~~~~~~~~~~~~~~~~~~~~~~~~~~~~~~~~~\n",
      "2\n",
      "Data Analyst\n",
      "Purdue University at not specified\n",
      "Not specified when posted\n",
      "$55 - $75 an hour\n",
      "<title>Data Analyst - West Lafayette, IN - Indeed.com</title>\n",
      "http://indeed.com/company/Iprofs,-LLC/jobs/Data-Analyst-8e02dd60797712ae?fccid=4f57ff51df5aa863&vjs=3\n",
      "~~~~~~~~~~~~~~~~~~~~~~~~~~~~~~~~~~~~~~~~~~\n",
      "3\n",
      "Data Analyst\n",
      "CorTech, LLC at not specified\n",
      "Not specified when posted\n",
      "$55 - $75 an hour\n",
      "<title>Data Analyst - Remote - Indeed.com</title>\n",
      "http://indeed.com/company/Iprofs,-LLC/jobs/Data-Analyst-8e02dd60797712ae?fccid=4f57ff51df5aa863&vjs=3\n",
      "~~~~~~~~~~~~~~~~~~~~~~~~~~~~~~~~~~~~~~~~~~\n",
      "4\n",
      "Data Analyst\n",
      "Mainz Brady Group at Remote\n",
      "Not specified when posted\n",
      "$55 - $75 an hour\n",
      "<title>Data Analyst - Remote - Indeed.com</title>\n",
      "http://indeed.com/company/Iprofs,-LLC/jobs/Data-Analyst-8e02dd60797712ae?fccid=4f57ff51df5aa863&vjs=3\n",
      "~~~~~~~~~~~~~~~~~~~~~~~~~~~~~~~~~~~~~~~~~~\n",
      "5\n",
      "Data Analyst - 100% REMOTE\n",
      "SGA at Remote\n",
      "Not specified when posted\n",
      "$55 - $75 an hour\n",
      "<title>Data Analyst - 100% REMOTE - Remote - Indeed.com</title>\n",
      "http://indeed.com/company/Iprofs,-LLC/jobs/Data-Analyst-8e02dd60797712ae?fccid=4f57ff51df5aa863&vjs=3\n",
      "~~~~~~~~~~~~~~~~~~~~~~~~~~~~~~~~~~~~~~~~~~\n",
      "6\n",
      "Jr. Data Analyst\n",
      "Net2Aspire at Remote\n",
      "Not specified when posted\n",
      "$55 - $75 an hour\n",
      "<title>Jr. Data Analyst - Remote - Indeed.com</title>\n",
      "http://indeed.com/company/Iprofs,-LLC/jobs/Data-Analyst-8e02dd60797712ae?fccid=4f57ff51df5aa863&vjs=3\n",
      "~~~~~~~~~~~~~~~~~~~~~~~~~~~~~~~~~~~~~~~~~~\n",
      "7\n",
      "Data Analyst\n",
      "firstPRO Inc. at not specified\n",
      "Not specified when posted\n",
      "$55 - $75 an hour\n",
      "<title>Data Analyst - Remote - Indeed.com</title>\n",
      "http://indeed.com/company/Iprofs,-LLC/jobs/Data-Analyst-8e02dd60797712ae?fccid=4f57ff51df5aa863&vjs=3\n",
      "~~~~~~~~~~~~~~~~~~~~~~~~~~~~~~~~~~~~~~~~~~\n",
      "8\n",
      "Data Analyst (all levels)\n",
      "Github at Remote\n",
      "Not specified when posted\n",
      "$55 - $75 an hour\n",
      "<title>Data Analyst (all levels) - Remote - Indeed.com</title>\n",
      "http://indeed.com/company/Iprofs,-LLC/jobs/Data-Analyst-8e02dd60797712ae?fccid=4f57ff51df5aa863&vjs=3\n",
      "~~~~~~~~~~~~~~~~~~~~~~~~~~~~~~~~~~~~~~~~~~\n",
      "9\n",
      "Product Data Analyst\n",
      "Underdog Fantasy at Remote\n",
      "Not specified when posted\n",
      "$55 - $75 an hour\n",
      "<title>Product Data Analyst - Remote - Indeed.com</title>\n",
      "http://indeed.com/company/Iprofs,-LLC/jobs/Data-Analyst-8e02dd60797712ae?fccid=4f57ff51df5aa863&vjs=3\n",
      "~~~~~~~~~~~~~~~~~~~~~~~~~~~~~~~~~~~~~~~~~~\n",
      "10\n",
      "Data Analyst (Remote Opportunity)\n",
      "Greenway Health at not specified\n",
      "Not specified when posted\n",
      "$55 - $75 an hour\n",
      "<title>Data Analyst (Remote Opportunity) - United States - Indeed.com</title>\n",
      "http://indeed.com/company/Iprofs,-LLC/jobs/Data-Analyst-8e02dd60797712ae?fccid=4f57ff51df5aa863&vjs=3\n",
      "~~~~~~~~~~~~~~~~~~~~~~~~~~~~~~~~~~~~~~~~~~\n",
      "11\n",
      "Workplace Data Analyst - Visualization\n",
      "Indeed at not specified\n",
      "Not specified when posted\n",
      "$55 - $75 an hour\n",
      "<title>Workplace Data Analyst - Visualization - United States - Indeed.com</title>\n",
      "http://indeed.com/company/Iprofs,-LLC/jobs/Data-Analyst-8e02dd60797712ae?fccid=4f57ff51df5aa863&vjs=3\n",
      "~~~~~~~~~~~~~~~~~~~~~~~~~~~~~~~~~~~~~~~~~~\n",
      "12\n",
      "Data Analyst (100% remote)\n",
      "Innovyt Technology at Remote\n",
      "Not specified when posted\n",
      "$55 - $75 an hour\n",
      "<title>Data Analyst (100% remote) - Remote - Indeed.com</title>\n",
      "http://indeed.com/company/Iprofs,-LLC/jobs/Data-Analyst-8e02dd60797712ae?fccid=4f57ff51df5aa863&vjs=3\n",
      "~~~~~~~~~~~~~~~~~~~~~~~~~~~~~~~~~~~~~~~~~~\n",
      "13\n",
      "Jr Data Analyst\n",
      "Blue Rose Consulting Group, Inc. at Remote\n",
      "Not specified when posted\n",
      "$55 - $75 an hour\n",
      "<title>Jr Data Analyst - Remote - Indeed.com</title>\n",
      "http://indeed.com/company/Iprofs,-LLC/jobs/Data-Analyst-8e02dd60797712ae?fccid=4f57ff51df5aa863&vjs=3\n",
      "~~~~~~~~~~~~~~~~~~~~~~~~~~~~~~~~~~~~~~~~~~\n",
      "14\n",
      "Data Analyst\n",
      "Neal Analytics at not specified\n",
      "Not specified when posted\n",
      "$55 - $75 an hour\n",
      "<title>Data Analyst - Remote - Indeed.com</title>\n",
      "http://indeed.com/company/Iprofs,-LLC/jobs/Data-Analyst-8e02dd60797712ae?fccid=4f57ff51df5aa863&vjs=3\n",
      "~~~~~~~~~~~~~~~~~~~~~~~~~~~~~~~~~~~~~~~~~~\n",
      "15\n",
      "Entry Level Data Analyst\n",
      "Antra, Inc at not specified\n",
      "Not specified when posted\n",
      "$55 - $75 an hour\n",
      "<title>Entry Level Data Analyst - Remote - Indeed.com</title>\n",
      "http://indeed.com/company/Iprofs,-LLC/jobs/Data-Analyst-8e02dd60797712ae?fccid=4f57ff51df5aa863&vjs=3\n",
      "~~~~~~~~~~~~~~~~~~~~~~~~~~~~~~~~~~~~~~~~~~\n"
     ]
    }
   ],
   "source": [
    "\n",
    "print(f\"collected {len(jobs_post_list)}\")\n",
    "i1 = 1\n",
    "for job in jobs_post_list:\n",
    "    print(i1)\n",
    "    job.printF()\n",
    "    #job.desc()\n",
    "    i1 = i1 + 1"
   ]
  },
  {
   "cell_type": "markdown",
   "metadata": {},
   "source": [
    "## Append the results to a csv if they are unique\n",
    "Used [this Stack Overflow post](https://stackoverflow.com/questions/34997174/how-to-convert-list-of-model-objects-to-pandas-dataframe) to figure out instantiating data frame from list of objects"
   ]
  },
  {
   "cell_type": "code",
   "execution_count": 25,
   "metadata": {},
   "outputs": [
    {
     "name": "stdout",
     "output_type": "stream",
     "text": [
      "15\n",
      "<bound method NDFrame.describe of               job_id                                       job_title  \\\n",
      "0   a72c2452dcb67391  Remote - Data Analyst - Research and Analytics   \n",
      "1   d21e40d081002c62                                    Data Analyst   \n",
      "2   afae32200d9294e4                                    Data Analyst   \n",
      "3   d107ba3673a5180f                                    Data Analyst   \n",
      "4   bdb6936d46f6b7d1                      Data Analyst - 100% REMOTE   \n",
      "5   1e9ba23166aa6793                                Jr. Data Analyst   \n",
      "6   ae7348774581dcf5                                    Data Analyst   \n",
      "7   f07756912b9fc020                       Data Analyst (all levels)   \n",
      "8   e97a2c4fb8e4e05f                            Product Data Analyst   \n",
      "9   a51f7732a83a8476               Data Analyst (Remote Opportunity)   \n",
      "10  83ed585eb98c43f4          Workplace Data Analyst - Visualization   \n",
      "11  c7ddf095e634d756                      Data Analyst (100% remote)   \n",
      "12  c45c1c9b3a37e2e0                                 Jr Data Analyst   \n",
      "13  9b2d371677f71d24                                    Data Analyst   \n",
      "14  65edb68265116e3d                        Entry Level Data Analyst   \n",
      "\n",
      "                         job_company            job_date_posted  \\\n",
      "0           Liberty Mutual Insurance  Not specified when posted   \n",
      "1                  Purdue University  Not specified when posted   \n",
      "2                       CorTech, LLC  Not specified when posted   \n",
      "3                  Mainz Brady Group  Not specified when posted   \n",
      "4                                SGA  Not specified when posted   \n",
      "5                         Net2Aspire  Not specified when posted   \n",
      "6                      firstPRO Inc.  Not specified when posted   \n",
      "7                             Github  Not specified when posted   \n",
      "8                   Underdog Fantasy  Not specified when posted   \n",
      "9                    Greenway Health  Not specified when posted   \n",
      "10                            Indeed  Not specified when posted   \n",
      "11                Innovyt Technology  Not specified when posted   \n",
      "12  Blue Rose Consulting Group, Inc.  Not specified when posted   \n",
      "13                    Neal Analytics  Not specified when posted   \n",
      "14                        Antra, Inc  Not specified when posted   \n",
      "\n",
      "                                     job_company_link         job_salary  \\\n",
      "0   http://indeed.com/company/Iprofs,-LLC/jobs/Dat...  $55 - $75 an hour   \n",
      "1   http://indeed.com/company/Iprofs,-LLC/jobs/Dat...  $55 - $75 an hour   \n",
      "2   http://indeed.com/company/Iprofs,-LLC/jobs/Dat...  $55 - $75 an hour   \n",
      "3   http://indeed.com/company/Iprofs,-LLC/jobs/Dat...  $55 - $75 an hour   \n",
      "4   http://indeed.com/company/Iprofs,-LLC/jobs/Dat...  $55 - $75 an hour   \n",
      "5   http://indeed.com/company/Iprofs,-LLC/jobs/Dat...  $55 - $75 an hour   \n",
      "6   http://indeed.com/company/Iprofs,-LLC/jobs/Dat...  $55 - $75 an hour   \n",
      "7   http://indeed.com/company/Iprofs,-LLC/jobs/Dat...  $55 - $75 an hour   \n",
      "8   http://indeed.com/company/Iprofs,-LLC/jobs/Dat...  $55 - $75 an hour   \n",
      "9   http://indeed.com/company/Iprofs,-LLC/jobs/Dat...  $55 - $75 an hour   \n",
      "10  http://indeed.com/company/Iprofs,-LLC/jobs/Dat...  $55 - $75 an hour   \n",
      "11  http://indeed.com/company/Iprofs,-LLC/jobs/Dat...  $55 - $75 an hour   \n",
      "12  http://indeed.com/company/Iprofs,-LLC/jobs/Dat...  $55 - $75 an hour   \n",
      "13  http://indeed.com/company/Iprofs,-LLC/jobs/Dat...  $55 - $75 an hour   \n",
      "14  http://indeed.com/company/Iprofs,-LLC/jobs/Dat...  $55 - $75 an hour   \n",
      "\n",
      "         location                                     job_page_title  \n",
      "0          Remote  [Remote - Data Analyst - Research and Analytic...  \n",
      "1   not specified   [Data Analyst - West Lafayette, IN - Indeed.com]  \n",
      "2   not specified               [Data Analyst - Remote - Indeed.com]  \n",
      "3          Remote               [Data Analyst - Remote - Indeed.com]  \n",
      "4          Remote  [Data Analyst - 100% REMOTE - Remote - Indeed....  \n",
      "5          Remote           [Jr. Data Analyst - Remote - Indeed.com]  \n",
      "6   not specified               [Data Analyst - Remote - Indeed.com]  \n",
      "7          Remote  [Data Analyst (all levels) - Remote - Indeed.com]  \n",
      "8          Remote       [Product Data Analyst - Remote - Indeed.com]  \n",
      "9   not specified  [Data Analyst (Remote Opportunity) - United St...  \n",
      "10  not specified  [Workplace Data Analyst - Visualization - Unit...  \n",
      "11         Remote  [Data Analyst (100% remote) - Remote - Indeed....  \n",
      "12         Remote            [Jr Data Analyst - Remote - Indeed.com]  \n",
      "13  not specified               [Data Analyst - Remote - Indeed.com]  \n",
      "14  not specified   [Entry Level Data Analyst - Remote - Indeed.com]  >\n"
     ]
    }
   ],
   "source": [
    "print(len(jobs_post_list))\n",
    "jobs_df = pd.DataFrame.from_records([job.to_dict() for job in jobs_post_list])\n",
    "#print(jobs_df.head())\n",
    "print(jobs_df.describe)\n",
    "jobs_df.to_csv('data/job_posts.csv')"
   ]
  }
 ],
 "metadata": {
  "interpreter": {
   "hash": "882ff7038df49cc7fe29560075f5cb1e01e62ef6492096b31436eb4923d2c412"
  },
  "kernelspec": {
   "display_name": "Python 3.10.4 64-bit",
   "language": "python",
   "name": "python3"
  },
  "language_info": {
   "codemirror_mode": {
    "name": "ipython",
    "version": 3
   },
   "file_extension": ".py",
   "mimetype": "text/x-python",
   "name": "python",
   "nbconvert_exporter": "python",
   "pygments_lexer": "ipython3",
   "version": "3.10.4"
  },
  "orig_nbformat": 4
 },
 "nbformat": 4,
 "nbformat_minor": 2
}
